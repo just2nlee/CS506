{
 "cells": [
  {
   "cell_type": "markdown",
   "metadata": {},
   "source": [
    "# Worksheet 00\n",
    "\n",
    "Name:  Justin Lee\n",
    "UID:  U91124085\n",
    "\n",
    "### Topics\n",
    "\n",
    "- course overview\n",
    "- python review\n",
    "\n",
    "### Course Overview\n",
    "\n",
    "a) Why are you taking this course?"
   ]
  },
  {
   "cell_type": "markdown",
   "metadata": {},
   "source": [
    "I am taking this course to become more familiar with tools that might be valuable in the workplace if I wanted to pursue a data science related role."
   ]
  },
  {
   "cell_type": "markdown",
   "metadata": {},
   "source": [
    "b) What are your academic and professional goals for this semester?"
   ]
  },
  {
   "cell_type": "markdown",
   "metadata": {},
   "source": [
    " My academic goals are to get as much learning out of my classes as possible before I graduate this semester. As far as professionally I assume that learning the material well in this class will help develop valuable professional skills that could be used in the future."
   ]
  },
  {
   "cell_type": "markdown",
   "metadata": {},
   "source": [
    "c) Do you have previous Data Science experience? If so, please expand. "
   ]
  },
  {
   "cell_type": "markdown",
   "metadata": {},
   "source": [
    "Yes in the past I have taken BA 476 and have dealt with making a recommendation system for a tech startup two summers ago. I also have some data mining experience with Professor Erdos at BU."
   ]
  },
  {
   "cell_type": "markdown",
   "metadata": {},
   "source": [
    "d) Data Science is a combination of programming, math (linear algebra and calculus), and statistics. Which of these three do you struggle with the most (you may pick more than one)? "
   ]
  },
  {
   "cell_type": "markdown",
   "metadata": {},
   "source": [
    "I would say that I personally struggle the most with math."
   ]
  },
  {
   "cell_type": "markdown",
   "metadata": {},
   "source": [
    "### Python review\n",
    "\n",
    "#### Lambda functions\n",
    "\n",
    "Python supports the creation of anonymous functions (i.e. functions that are not bound to a name) at runtime, using a construct called `lambda`. Instead of writing a named function as such:"
   ]
  },
  {
   "cell_type": "code",
   "execution_count": 26,
   "metadata": {},
   "outputs": [
    {
     "data": {
      "text/plain": [
       "64"
      ]
     },
     "execution_count": 26,
     "metadata": {},
     "output_type": "execute_result"
    }
   ],
   "source": [
    "def f(x):\n",
    "    return x**2\n",
    "f(8)"
   ]
  },
  {
   "cell_type": "markdown",
   "metadata": {},
   "source": [
    "One can write an anonymous function as such:"
   ]
  },
  {
   "cell_type": "code",
   "execution_count": 27,
   "metadata": {},
   "outputs": [
    {
     "data": {
      "text/plain": [
       "64"
      ]
     },
     "execution_count": 27,
     "metadata": {},
     "output_type": "execute_result"
    }
   ],
   "source": [
    "(lambda x: x**2)(8)"
   ]
  },
  {
   "cell_type": "markdown",
   "metadata": {},
   "source": [
    "A `lambda` function can take multiple arguments:"
   ]
  },
  {
   "cell_type": "code",
   "execution_count": 28,
   "metadata": {},
   "outputs": [
    {
     "data": {
      "text/plain": [
       "5"
      ]
     },
     "execution_count": 28,
     "metadata": {},
     "output_type": "execute_result"
    }
   ],
   "source": [
    "(lambda x, y : x + y)(2, 3)"
   ]
  },
  {
   "cell_type": "markdown",
   "metadata": {},
   "source": [
    "The arguments can be `lambda` functions themselves:"
   ]
  },
  {
   "cell_type": "code",
   "execution_count": 29,
   "metadata": {},
   "outputs": [
    {
     "data": {
      "text/plain": [
       "5"
      ]
     },
     "execution_count": 29,
     "metadata": {},
     "output_type": "execute_result"
    }
   ],
   "source": [
    "(lambda x : x(3))(lambda y: 2 + y)"
   ]
  },
  {
   "cell_type": "markdown",
   "metadata": {},
   "source": [
    "a) write a `lambda` function that takes three arguments `x, y, z` and returns `True` only if `x < y < z`."
   ]
  },
  {
   "cell_type": "code",
   "execution_count": 30,
   "metadata": {},
   "outputs": [
    {
     "data": {
      "text/plain": [
       "<function __main__.<lambda>(x, y, z)>"
      ]
     },
     "execution_count": 30,
     "metadata": {},
     "output_type": "execute_result"
    }
   ],
   "source": [
    "(lambda x,y,z: x<y<z)"
   ]
  },
  {
   "cell_type": "markdown",
   "metadata": {},
   "source": [
    "b) write a `lambda` function that takes a parameter `n` and returns a lambda function that will multiply any input it receives by `n`. For example, if we called this function `g`, then `g(n)(2) = 2n`"
   ]
  },
  {
   "cell_type": "code",
   "execution_count": 31,
   "metadata": {},
   "outputs": [
    {
     "data": {
      "text/plain": [
       "<function __main__.<lambda>(n)>"
      ]
     },
     "execution_count": 31,
     "metadata": {},
     "output_type": "execute_result"
    }
   ],
   "source": [
    "(lambda n: (lambda x: n * x))"
   ]
  },
  {
   "cell_type": "markdown",
   "metadata": {},
   "source": [
    "#### Map\n",
    "\n",
    "`map(func, s)`\n",
    "\n",
    "`func` is a function and `s` is a sequence (e.g., a list). \n",
    "\n",
    "`map()` returns an object that will apply function `func` to each of the elements of `s`.\n",
    "\n",
    "For example if you want to multiply every element in a list by 2 you can write the following:"
   ]
  },
  {
   "cell_type": "code",
   "execution_count": 32,
   "metadata": {},
   "outputs": [
    {
     "name": "stdout",
     "output_type": "stream",
     "text": [
      "[2, 4, 6, 8, 10]\n"
     ]
    }
   ],
   "source": [
    "mylist = [1, 2, 3, 4, 5]\n",
    "mylist_mul_by_2 = map(lambda x : 2 * x, mylist)\n",
    "print(list(mylist_mul_by_2))"
   ]
  },
  {
   "cell_type": "markdown",
   "metadata": {},
   "source": [
    "`map` can also be applied to more than one list as long as they are the same size:"
   ]
  },
  {
   "cell_type": "code",
   "execution_count": 33,
   "metadata": {},
   "outputs": [
    {
     "data": {
      "text/plain": [
       "[6, 6, 6, 6, 6]"
      ]
     },
     "execution_count": 33,
     "metadata": {},
     "output_type": "execute_result"
    }
   ],
   "source": [
    "a = [1, 2, 3, 4, 5]\n",
    "b = [5, 4, 3, 2, 1]\n",
    "\n",
    "a_plus_b = map(lambda x, y: x + y, a, b)\n",
    "list(a_plus_b)"
   ]
  },
  {
   "cell_type": "markdown",
   "metadata": {},
   "source": [
    "c) write a map that checks if elements are greater than zero"
   ]
  },
  {
   "cell_type": "code",
   "execution_count": 34,
   "metadata": {},
   "outputs": [
    {
     "data": {
      "text/plain": [
       "[False, False, False, True, True]"
      ]
     },
     "execution_count": 34,
     "metadata": {},
     "output_type": "execute_result"
    }
   ],
   "source": [
    "c = [-2, -1, 0, 1, 2]\n",
    "gt_zero = map(lambda x: x > 0, c)\n",
    "list(gt_zero)"
   ]
  },
  {
   "cell_type": "markdown",
   "metadata": {},
   "source": [
    "d) write a map that checks if elements are multiples of 3"
   ]
  },
  {
   "cell_type": "code",
   "execution_count": 35,
   "metadata": {},
   "outputs": [
    {
     "data": {
      "text/plain": [
       "[False, True, True, False, False]"
      ]
     },
     "execution_count": 35,
     "metadata": {},
     "output_type": "execute_result"
    }
   ],
   "source": [
    "d = [1, 3, 6, 11, 2]\n",
    "mul_of3 = map(lambda x: x%3==0, d)\n",
    "list(mul_of3)"
   ]
  },
  {
   "cell_type": "markdown",
   "metadata": {},
   "source": [
    "#### Filter\n",
    "\n",
    "`filter(function, list)` returns a new list containing all the elements of `list` for which `function()` evaluates to `True.`\n",
    "\n",
    "e) write a filter that will only return even numbers in the list"
   ]
  },
  {
   "cell_type": "code",
   "execution_count": 36,
   "metadata": {},
   "outputs": [
    {
     "data": {
      "text/plain": [
       "[2, 4, 6, 8, 10]"
      ]
     },
     "execution_count": 36,
     "metadata": {},
     "output_type": "execute_result"
    }
   ],
   "source": [
    "e = [1, 2, 3, 4, 5, 6, 7, 8, 9, 10]\n",
    "evens = filter((lambda x: x%2 == 0), e)\n",
    "list(evens)"
   ]
  },
  {
   "cell_type": "markdown",
   "metadata": {},
   "source": [
    "#### Reduce\n",
    "\n",
    "`reduce(function, sequence[, initial])` returns the result of sequentially applying the function to the sequence (starting at an initial state). You can think of reduce as consuming the sequence via the function.\n",
    "\n",
    "For example, let's say we want to add all elements in a list. We could write the following:"
   ]
  },
  {
   "cell_type": "code",
   "execution_count": 37,
   "metadata": {},
   "outputs": [
    {
     "name": "stdout",
     "output_type": "stream",
     "text": [
      "15\n"
     ]
    }
   ],
   "source": [
    "from functools import reduce\n",
    "\n",
    "nums = [1, 2, 3, 4, 5]\n",
    "sum_nums = reduce(lambda acc, x : acc + x, nums, 0)\n",
    "print(sum_nums)"
   ]
  },
  {
   "cell_type": "markdown",
   "metadata": {},
   "source": [
    "Let's walk through the steps of `reduce` above:\n",
    "\n",
    "1) the value of `acc` is set to 0 (our initial value)\n",
    "2) Apply the lambda function on `acc` and the first element of the list: `acc` = `acc` + 1 = 1\n",
    "3) `acc` = `acc` + 2 = 3\n",
    "4) `acc` = `acc` + 3 = 6\n",
    "5) `acc` = `acc` + 4 = 10\n",
    "6) `acc` = `acc` + 5 = 15\n",
    "7) return `acc`\n",
    "\n",
    "`acc` is short for `accumulator`.\n",
    "\n",
    "f) `*challenging` Using `reduce` write a function that returns the factorial of a number. (recall: N! (N factorial) = N * (N - 1) * (N - 2) * ... * 2 * 1)"
   ]
  },
  {
   "cell_type": "code",
   "execution_count": 38,
   "metadata": {},
   "outputs": [
    {
     "data": {
      "text/plain": [
       "3628800"
      ]
     },
     "execution_count": 38,
     "metadata": {},
     "output_type": "execute_result"
    }
   ],
   "source": [
    "from functools import reduce\n",
    "\n",
    "factorial = lambda x : reduce(lambda acc, y: acc * y, range(1, x + 1), 1)\n",
    "factorial(10)"
   ]
  },
  {
   "cell_type": "markdown",
   "metadata": {},
   "source": [
    "g) `*challenging` Using `reduce` and `filter`, write a function that returns all the primes below a certain number"
   ]
  },
  {
   "cell_type": "code",
   "execution_count": 39,
   "metadata": {},
   "outputs": [
    {
     "name": "stdout",
     "output_type": "stream",
     "text": [
      "[2, 3, 5, 7, 11, 13, 17, 19, 23, 29, 31, 37, 41, 43, 47, 53, 59, 61, 67, 71, 73, 79, 83, 89, 97]\n"
     ]
    }
   ],
   "source": [
    "from functools import reduce\n",
    "\n",
    "sieve = lambda x: reduce(\n",
    "    lambda acc, y: acc + [y] if all(y % p != 0 for p in acc) else acc,\n",
    "    filter(lambda n: n > 1, range(2, x)),\n",
    "    []\n",
    ")\n",
    "print(sieve(100))"
   ]
  },
  {
   "cell_type": "markdown",
   "metadata": {},
   "source": [
    "### What is going on?\n",
    "\n",
    "For each of the following code snippets, explain why the result may be unexpected and why the output is what it is:"
   ]
  },
  {
   "cell_type": "code",
   "execution_count": 40,
   "metadata": {},
   "outputs": [
    {
     "name": "stdout",
     "output_type": "stream",
     "text": [
      "OVERDRAWN\n"
     ]
    }
   ],
   "source": [
    "class Bank:\n",
    "  def __init__(self, balance):\n",
    "    self.balance = balance\n",
    "  \n",
    "  def is_overdrawn(self):\n",
    "    return self.balance < 0\n",
    "\n",
    "myBank = Bank(100)\n",
    "if myBank.is_overdrawn :\n",
    "  print(\"OVERDRAWN\")\n",
    "else:\n",
    "  print(\"ALL GOOD\")"
   ]
  },
  {
   "cell_type": "markdown",
   "metadata": {},
   "source": [
    "\n",
    "The output of the code snippet is \"OVERDRAWN,\" may be unexpected given that the initial balance of myBank is set to 100 which would be above a balance of zero. The reason for this unexpected output is a syntax error and an issue with method invocation is syntax error. The code is missing parentheses when calling the is_overdrawn method in the if condition. Instead it should be \"if myBank.is_overdrawn():\" instead of \"if myBank.is_overdrawn :\".\n",
    "\n",
    "The results may be unexpected due to the fact that in Python, when you reference a method without parentheses, you're actually referencing the method object itself, not calling the method. Therefore, \"if myBank.is_overdrawn:\" evaluates to True because it's checking if the method object is_overdrawn exists, which it does. As a result, the code always prints \"OVERDRAWN\" regardless of the actual balance."
   ]
  },
  {
   "cell_type": "code",
   "execution_count": 41,
   "metadata": {},
   "outputs": [
    {
     "name": "stdout",
     "output_type": "stream",
     "text": [
      "0\n",
      "1\n",
      "2\n",
      "3\n"
     ]
    }
   ],
   "source": [
    "for i in range(4):\n",
    "    print(i)\n",
    "    i = 10"
   ]
  },
  {
   "cell_type": "markdown",
   "metadata": {},
   "source": [
    "The output may be unexpected because i is set to 10 and the value 10 is never printed in the course of the for loop. However, since the print statement for i comes before i is set to 10, the number 10 will never be printed since the value of i will be set to 0,1,2,3 as it goes through the for loop."
   ]
  },
  {
   "cell_type": "code",
   "execution_count": 42,
   "metadata": {},
   "outputs": [
    {
     "name": "stdout",
     "output_type": "stream",
     "text": [
      "[['', '', ''], ['', '', ''], ['', '', '']]\n",
      "[['X', '', ''], ['X', '', ''], ['X', '', '']]\n"
     ]
    }
   ],
   "source": [
    "row = [\"\"] * 3 # row i['', '', '']\n",
    "board = [row] * 3\n",
    "print(board) # [['', '', ''], ['', '', ''], ['', '', '']]\n",
    "board[0][0] = \"X\"\n",
    "print(board)"
   ]
  },
  {
   "cell_type": "markdown",
   "metadata": {},
   "source": [
    "You might expect board to be a 3x3 matrix initialized with empty strings. However, when you use the * operator to create a list, it creates references to the same list, not independent copies.\n",
    "\n",
    "So, when you modify one element of board, with \"board[0][0]\" it affects the entire column because each row in board refers to the same list object row. This explains the unexpected output."
   ]
  },
  {
   "cell_type": "code",
   "execution_count": 43,
   "metadata": {},
   "outputs": [
    {
     "name": "stdout",
     "output_type": "stream",
     "text": [
      "[0, 1, 2]\n",
      "[2, 2, 2]\n"
     ]
    }
   ],
   "source": [
    "funcs = []\n",
    "results = []\n",
    "for x in range(3):\n",
    "    def some_func():\n",
    "        return x\n",
    "    funcs.append(some_func)\n",
    "    results.append(some_func())  # note the function call here\n",
    "\n",
    "funcs_results = [func() for func in funcs]\n",
    "print(results) # [0,1,2]\n",
    "print(funcs_results)"
   ]
  },
  {
   "cell_type": "markdown",
   "metadata": {},
   "source": [
    "You might expect results to contain [0, 1, 2] since some_func is called immediately after it's defined within the loop. However, funcs_results might be unexpected because it also ends up containing [2, 2, 2] instead of [0, 1, 2]. This happens because of the late binding behavior of Python closures.\n",
    "\n",
    "When some_func is defined within the loop, it creates a closure over the variable x. Since the loop variable x is not evaluated until the function is called, by the time the functions are executed in funcs_results, the loop has already finished, and x has the final value of 2."
   ]
  },
  {
   "cell_type": "code",
   "execution_count": 44,
   "metadata": {},
   "outputs": [
    {
     "name": "stdout",
     "output_type": "stream",
     "text": [
      "0\n"
     ]
    }
   ],
   "source": [
    "f = open(\"./data.txt\", \"w+\")\n",
    "f.write(\"1,2,3,4,5\")\n",
    "f.close()\n",
    "\n",
    "nums = []\n",
    "with open(\"./data.txt\", \"w+\") as f:\n",
    "  lines = f.readlines()\n",
    "  for line in lines:\n",
    "    nums += [int(x) for x in line.split(\",\")]\n",
    "\n",
    "print(sum(nums))"
   ]
  },
  {
   "cell_type": "markdown",
   "metadata": {},
   "source": [
    "The output of 0 might be unexpected because of a couple of issues in the code. The first issue is that when opening the file in \"w+\" mode, it truncates the file before writing. So when you write \"1,2,3,4,5\" to the file, it overwrites the existing content. Therefore, when you try to read from the file later, there is no content to read.\n",
    "Secondly even if the file had not been overwritten, there's a logical error in reading from the file. The code is trying to read lines from the file and split each line by commas to get individual numbers. However, there's only one line in the file, so readlines() returns a list with only one element. As a result, the loop iterates only once, and nums remains empty."
   ]
  },
  {
   "cell_type": "code",
   "execution_count": null,
   "metadata": {},
   "outputs": [],
   "source": []
  },
  {
   "cell_type": "code",
   "execution_count": null,
   "metadata": {},
   "outputs": [],
   "source": []
  },
  {
   "cell_type": "code",
   "execution_count": null,
   "metadata": {},
   "outputs": [],
   "source": []
  },
  {
   "cell_type": "code",
   "execution_count": null,
   "metadata": {},
   "outputs": [],
   "source": []
  }
 ],
 "metadata": {
  "interpreter": {
   "hash": "e7370f93d1d0cde622a1f8e1c04877d8463912d04d973331ad4851f04de6915a"
  },
  "kernelspec": {
   "display_name": "Python 3",
   "language": "python",
   "name": "python3"
  },
  "language_info": {
   "codemirror_mode": {
    "name": "ipython",
    "version": 3
   },
   "file_extension": ".py",
   "mimetype": "text/x-python",
   "name": "python",
   "nbconvert_exporter": "python",
   "pygments_lexer": "ipython3",
   "version": "3.8.8"
  }
 },
 "nbformat": 4,
 "nbformat_minor": 2
}
